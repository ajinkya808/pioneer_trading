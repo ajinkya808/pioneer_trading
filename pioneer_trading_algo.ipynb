{
 "cells": [
  {
   "cell_type": "code",
   "execution_count": 16,
   "metadata": {},
   "outputs": [
    {
     "name": "stdout",
     "output_type": "stream",
     "text": [
      "0.07\n"
     ]
    }
   ],
   "source": [
    "#Pionner Trading\n",
    "from win32com.client import GetObject\n",
    "import pandas as pd\n",
    "import numpy as np\n",
    "\n",
    "#EXCEL SHEET LOADS\n",
    "xl = GetObject(None, \"Excel.Application\")\n",
    "wb = xl.Workbooks(\"OI-Data.xlsx\")\n",
    "ws = wb.Sheets(1)\n",
    "ws.Range('I8:I24').Value\n",
    "\n",
    "#Call NET OPEN INTERTEST\n",
    "n=0\n",
    "call_net_OI_temp=[]\n",
    "while n<len(ws.Range('I8:I24').value):\n",
    "    call_net_OI_temp.append(list(ws.Range('I8:I24').Value[n]))\n",
    "    n=n+1\n",
    "\n",
    "n=0\n",
    "call_net_OI=[]\n",
    "for x in call_net_OI_temp:\n",
    "    call_net_OI.append(call_net_OI_temp[n][0])\n",
    "    n=n+1\n",
    "    \n",
    "#PUT NET OPEN INTERTEST\n",
    "n=0\n",
    "put_net_OI_temp=[]\n",
    "while n<len(ws.Range('Q8:Q24').value):\n",
    "    put_net_OI_temp.append(list(ws.Range('Q8:Q24').Value[n]))\n",
    "    n=n+1\n",
    "\n",
    "n=0\n",
    "put_net_OI=[]\n",
    "for x in put_net_OI_temp:\n",
    "    put_net_OI.append(put_net_OI_temp[n][0])\n",
    "    n=n+1\n",
    "    \n",
    "open_interest = pd.DataFrame(list(zip(call_net_OI,put_net_OI)),columns =['call_net_OI', 'put_net_OI'])\n",
    "#print(open_interest)\n",
    "\n",
    "#print(round(open_interest['put_net_OI'].sum()/open_interest['call_net_OI'].sum(),3))\n",
    "pcr = (round(open_interest['put_net_OI'].sum()/open_interest['call_net_OI'].sum(),3))\n",
    "print(pcr)"
   ]
  },
  {
   "cell_type": "code",
   "execution_count": null,
   "metadata": {},
   "outputs": [],
   "source": []
  },
  {
   "cell_type": "code",
   "execution_count": null,
   "metadata": {},
   "outputs": [],
   "source": []
  },
  {
   "cell_type": "code",
   "execution_count": null,
   "metadata": {},
   "outputs": [],
   "source": []
  },
  {
   "cell_type": "code",
   "execution_count": null,
   "metadata": {},
   "outputs": [],
   "source": []
  },
  {
   "cell_type": "code",
   "execution_count": null,
   "metadata": {},
   "outputs": [],
   "source": []
  },
  {
   "cell_type": "code",
   "execution_count": null,
   "metadata": {},
   "outputs": [],
   "source": []
  }
 ],
 "metadata": {
  "kernelspec": {
   "display_name": "Python 3",
   "language": "python",
   "name": "python3"
  },
  "language_info": {
   "codemirror_mode": {
    "name": "ipython",
    "version": 3
   },
   "file_extension": ".py",
   "mimetype": "text/x-python",
   "name": "python",
   "nbconvert_exporter": "python",
   "pygments_lexer": "ipython3",
   "version": "3.8.8"
  }
 },
 "nbformat": 4,
 "nbformat_minor": 4
}
