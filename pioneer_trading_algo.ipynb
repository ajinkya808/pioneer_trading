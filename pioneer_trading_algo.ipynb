{
 "cells": [
  {
   "cell_type": "code",
   "execution_count": 86,
   "metadata": {},
   "outputs": [
    {
     "name": "stdout",
     "output_type": "stream",
     "text": [
      "    call_net_OI  put_net_OI\n",
      "0       13656.0     13656.0\n",
      "1       53135.0     53135.0\n",
      "2       12084.0     12084.0\n",
      "3       14971.0     14971.0\n",
      "4       13633.0     13633.0\n",
      "5        7800.0      7800.0\n",
      "6       48217.0     48217.0\n",
      "7        8960.0      8960.0\n",
      "8        7496.0      7496.0\n",
      "9        6767.0      6767.0\n",
      "10       5691.0      5691.0\n",
      "11      23598.0     23598.0\n",
      "12       3495.0      3495.0\n",
      "13       3591.0      3591.0\n",
      "14       8146.0      8146.0\n",
      "15       3991.0      3991.0\n",
      "16      34131.0     34131.0\n"
     ]
    }
   ],
   "source": [
    "#Pionner Trading\n",
    "from win32com.client import GetObject\n",
    "import pandas as pd\n",
    "import numpy as np\n",
    "\n",
    "#EXCEL SHEET LOADS\n",
    "xl = GetObject(None, \"Excel.Application\")\n",
    "wb = xl.Workbooks(\"OI-Data.xlsx\")\n",
    "ws = wb.Sheets(1)\n",
    "ws.Range('I8:I24').Value\n",
    "\n",
    "#Call NET OPEN INTERTEST\n",
    "n=0\n",
    "call_net_OI_temp=[]\n",
    "while n<len(ws.Range('I8:I24').value):\n",
    "    call_net_OI_temp.append(list(ws.Range('I8:I24').Value[n]))\n",
    "    n=n+1\n",
    "\n",
    "n=0\n",
    "call_net_OI=[]\n",
    "for x in call_net_OI_temp:\n",
    "    call_net_OI.append(call_net_OI_temp[n][0])\n",
    "    n=n+1\n",
    "    \n",
    "#PUT NET OPEN INTERTEST\n",
    "n=0\n",
    "put_net_OI_temp=[]\n",
    "while n<len(ws.Range('Q8:Q24').value):\n",
    "    put_net_OI_temp.append(list(ws.Range('I8:I24').Value[n]))\n",
    "    n=n+1\n",
    "\n",
    "n=0\n",
    "put_net_OI=[]\n",
    "for x in put_net_OI_temp:\n",
    "    put_net_OI.append(put_net_OI_temp[n][0])\n",
    "    n=n+1\n",
    "    \n",
    "open_interest = pd.DataFrame(list(zip(call_net_OI,put_net_OI)),columns =['call_net_OI', 'put_net_OI'])\n",
    "print(open_interest)"
   ]
  },
  {
   "cell_type": "code",
   "execution_count": 68,
   "metadata": {},
   "outputs": [
    {
     "name": "stdout",
     "output_type": "stream",
     "text": [
      "[[-2146826246], [-2146826246], [-2146826246], [-2146826246], [-2146826246], [-2146826246], [-2146826246], [-2146826246], [-2146826246], [-2146826246], [-2146826246], [-2146826246], [-2146826246], [-2146826246], [-2146826246], [-2146826246], [-2146826246]]\n"
     ]
    }
   ],
   "source": [
    "\n",
    "print(call_net_OI_temp)"
   ]
  },
  {
   "cell_type": "code",
   "execution_count": 66,
   "metadata": {},
   "outputs": [],
   "source": []
  },
  {
   "cell_type": "code",
   "execution_count": 78,
   "metadata": {},
   "outputs": [
    {
     "data": {
      "text/plain": [
       "17"
      ]
     },
     "execution_count": 78,
     "metadata": {},
     "output_type": "execute_result"
    }
   ],
   "source": [
    "len(ws.Range('I8:I24').value)"
   ]
  },
  {
   "cell_type": "code",
   "execution_count": 67,
   "metadata": {},
   "outputs": [
    {
     "data": {
      "text/plain": [
       "[13656.0,\n",
       " 53135.0,\n",
       " 12084.0,\n",
       " 14971.0,\n",
       " 13633.0,\n",
       " 7800.0,\n",
       " 48217.0,\n",
       " 8960.0,\n",
       " 7496.0,\n",
       " 6767.0,\n",
       " 5691.0,\n",
       " 23598.0,\n",
       " 3495.0,\n",
       " 3591.0,\n",
       " 8146.0,\n",
       " 3991.0,\n",
       " 34131.0]"
      ]
     },
     "execution_count": 67,
     "metadata": {},
     "output_type": "execute_result"
    }
   ],
   "source": [
    "call_net_OI"
   ]
  },
  {
   "cell_type": "code",
   "execution_count": 52,
   "metadata": {},
   "outputs": [
    {
     "name": "stdout",
     "output_type": "stream",
     "text": [
      "hi\n",
      "hi\n",
      "hi\n",
      "hi\n",
      "hi\n",
      "hi\n",
      "hi\n",
      "hi\n",
      "hi\n",
      "hi\n",
      "hi\n",
      "hi\n",
      "hi\n",
      "hi\n",
      "hi\n",
      "hi\n",
      "hi\n"
     ]
    }
   ],
   "source": [
    "for n in call_net_OI:\n",
    "    print('hi')"
   ]
  },
  {
   "cell_type": "code",
   "execution_count": null,
   "metadata": {},
   "outputs": [],
   "source": []
  }
 ],
 "metadata": {
  "kernelspec": {
   "display_name": "Python 3",
   "language": "python",
   "name": "python3"
  },
  "language_info": {
   "codemirror_mode": {
    "name": "ipython",
    "version": 3
   },
   "file_extension": ".py",
   "mimetype": "text/x-python",
   "name": "python",
   "nbconvert_exporter": "python",
   "pygments_lexer": "ipython3",
   "version": "3.8.3"
  }
 },
 "nbformat": 4,
 "nbformat_minor": 4
}
